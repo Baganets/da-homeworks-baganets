{
 "cells": [
  {
   "cell_type": "markdown",
   "id": "d155b010",
   "metadata": {
    "id": "d155b010"
   },
   "source": [
    "# Data Preparation. Практическая работа"
   ]
  },
  {
   "cell_type": "markdown",
   "id": "d30db0d4",
   "metadata": {
    "id": "d30db0d4"
   },
   "source": [
    "## Цели практической работы\n",
    "1. Потренироваться определять типы переменных в датасете, целевую переменную из постановки задачи, распределение переменных.\n",
    "2. Познакомиться с задачей, предстоящей на этапе моделирования.\n",
    "3. Начать исследовать данные для этапа моделирования.\n",
    "\n"
   ]
  },
  {
   "cell_type": "markdown",
   "id": "306ac2de",
   "metadata": {
    "id": "306ac2de"
   },
   "source": [
    "## Что входит в практическую работу\n",
    "1. Загрузить датасет и ознакомиться с ним.\n",
    "2. Исследовать переменные датасета.\n",
    "3. Определить типы переменных в датасете.\n",
    "4. Определить целевую переменную в данных и распределение переменных.\n",
    "\n",
    "\n"
   ]
  },
  {
   "cell_type": "markdown",
   "id": "9994d02b",
   "metadata": {
    "id": "9994d02b"
   },
   "source": [
    "## Что оценивается\n",
    "- Программа выдаёт верный ответ на заданном наборе данных.\n",
    "- Описаны причины выбранного решения, если требуется.\n",
    "- Код читабелен: переменным даны осмысленные названия, отступы и правила расстановки пробелов соблюдены.\n",
    "- Репозиторий проекта содержит осмысленные коммиты, содержащие конкретные реализованные фичи, ветки названы согласно назначению, лишние файлы не хранятся в репозитории.\n",
    "- В репозитории проекта соблюдена иерархия директорий согласно списку модулей и содержащихся в них уроках.\n",
    "- Репозиторий проекта содержит файлы с данными, полученными в результате выполнения практической работы.\n"
   ]
  },
  {
   "cell_type": "markdown",
   "id": "1aec0d81",
   "metadata": {
    "id": "1aec0d81"
   },
   "source": [
    "## Как отправить работу на проверку\n",
    "Сдайте практическую работу этого модуля через систему контроля версий Git сервиса Skillbox GitLab. После загрузки работы на проверку напишите об этом в личном кабинете своему проверяющему преподавателю.\n"
   ]
  },
  {
   "cell_type": "markdown",
   "id": "7bf82afb",
   "metadata": {
    "ExecuteTime": {
     "end_time": "2022-01-11T22:44:08.573461Z",
     "start_time": "2022-01-11T22:44:08.527557Z"
    },
    "id": "7bf82afb"
   },
   "source": [
    "## Задача\n",
    "\n",
    "Начиная с этого урока вы начнёте исследовать и готовить данные для этапа моделирования.\n",
    "\n",
    "Вам предстоит работать с небольшой выборкой из коллекции подержанных автомобилей, выставленных на продажу в Соединённых Штатах, представленной в файле `data/vehicles_dataset.csv`. На этих данных вы построите первую модель классификации, определяющую категорию цены подержанного автомобиля в зависимости от характеристик транспортного средства.\n",
    "В этой практической работе вы загрузите датасет и начнёте его исследование.\n",
    "\n",
    "\n",
    "## Описание датасета:\n",
    "- `id`: идентификатор записи;\n",
    "- `url`: URL записи о продаже;\n",
    "- `region`: регион;\n",
    "- `region_url`: URL региона;\n",
    "- `price`: стоимость;\n",
    "- `year`: год выпуска;\n",
    "- `manufacturer`: производитель;\n",
    "- `model`: модель;\n",
    "- `condition`: состояние;\n",
    "- `cylinders`: количество цилиндров;\n",
    "- `fuel`: тип топлива;\n",
    "- `odometer`: количество пройденных миль;\n",
    "- `title_status`: статус;\n",
    "- `transmission`: коробка передач;\n",
    "- `VIN`: идентификационный номер;\n",
    "- `drive`: тип привода;\n",
    "- `size`: размер;\n",
    "- `type`: кузов;\n",
    "- `paint_color`: цвет;\n",
    "- `image_url`: URL изображения;\n",
    "- `description`: указанное описание;\n",
    "- `county`: страна;\n",
    "- `state`: штат;\n",
    "- `lat`: широта;\n",
    "- `long`: долгота;\n",
    "- `posting_date`: дата размещения объявления о продаже;\n",
    "- `price_category`: категория цены.\n"
   ]
  },
  {
   "cell_type": "code",
   "execution_count": 1,
   "id": "66f36a2e",
   "metadata": {
    "id": "66f36a2e"
   },
   "outputs": [],
   "source": [
    "import pandas as pd\n",
    "#библиотеки?"
   ]
  },
  {
   "cell_type": "markdown",
   "id": "abd6f091",
   "metadata": {
    "id": "abd6f091"
   },
   "source": [
    "### Задача 1. Загрузка датасета и ознакомление с ним\n",
    "**Что нужно сделать**\n",
    "\n",
    "Для начала требуется загрузить датасет и ознакомиться с его характеристиками.\n",
    "\n",
    "1. Загрузите датасет из `data/vehicles_dataset.csv` и выведите его.\n"
   ]
  },
  {
   "cell_type": "code",
   "execution_count": 2,
   "id": "65aafba1",
   "metadata": {
    "id": "65aafba1"
   },
   "outputs": [
    {
     "data": {
      "text/html": [
       "<div>\n",
       "<style scoped>\n",
       "    .dataframe tbody tr th:only-of-type {\n",
       "        vertical-align: middle;\n",
       "    }\n",
       "\n",
       "    .dataframe tbody tr th {\n",
       "        vertical-align: top;\n",
       "    }\n",
       "\n",
       "    .dataframe thead th {\n",
       "        text-align: right;\n",
       "    }\n",
       "</style>\n",
       "<table border=\"1\" class=\"dataframe\">\n",
       "  <thead>\n",
       "    <tr style=\"text-align: right;\">\n",
       "      <th></th>\n",
       "      <th>id</th>\n",
       "      <th>url</th>\n",
       "      <th>region</th>\n",
       "      <th>region_url</th>\n",
       "      <th>price</th>\n",
       "      <th>year</th>\n",
       "      <th>manufacturer</th>\n",
       "      <th>model</th>\n",
       "      <th>condition</th>\n",
       "      <th>cylinders</th>\n",
       "      <th>...</th>\n",
       "      <th>type</th>\n",
       "      <th>paint_color</th>\n",
       "      <th>image_url</th>\n",
       "      <th>description</th>\n",
       "      <th>county</th>\n",
       "      <th>state</th>\n",
       "      <th>lat</th>\n",
       "      <th>long</th>\n",
       "      <th>posting_date</th>\n",
       "      <th>price_category</th>\n",
       "    </tr>\n",
       "  </thead>\n",
       "  <tbody>\n",
       "    <tr>\n",
       "      <th>0</th>\n",
       "      <td>7308295377</td>\n",
       "      <td>https://chattanooga.craigslist.org/ctd/d/chatt...</td>\n",
       "      <td>chattanooga</td>\n",
       "      <td>https://chattanooga.craigslist.org</td>\n",
       "      <td>54990</td>\n",
       "      <td>2020.0</td>\n",
       "      <td>ram</td>\n",
       "      <td>2500 crew cab big horn</td>\n",
       "      <td>good</td>\n",
       "      <td>NaN</td>\n",
       "      <td>...</td>\n",
       "      <td>pickup</td>\n",
       "      <td>silver</td>\n",
       "      <td>https://images.craigslist.org/00N0N_1xMPvfxRAI...</td>\n",
       "      <td>Carvana is the safer way to buy a car During t...</td>\n",
       "      <td>NaN</td>\n",
       "      <td>tn</td>\n",
       "      <td>35.060000</td>\n",
       "      <td>-85.250000</td>\n",
       "      <td>2021-04-17T12:30:50-0400</td>\n",
       "      <td>high</td>\n",
       "    </tr>\n",
       "    <tr>\n",
       "      <th>1</th>\n",
       "      <td>7316380095</td>\n",
       "      <td>https://newjersey.craigslist.org/ctd/d/carlsta...</td>\n",
       "      <td>north jersey</td>\n",
       "      <td>https://newjersey.craigslist.org</td>\n",
       "      <td>16942</td>\n",
       "      <td>2016.0</td>\n",
       "      <td>ford</td>\n",
       "      <td>explorer 4wd 4dr xlt</td>\n",
       "      <td>NaN</td>\n",
       "      <td>6 cylinders</td>\n",
       "      <td>...</td>\n",
       "      <td>SUV</td>\n",
       "      <td>black</td>\n",
       "      <td>https://images.craigslist.org/00x0x_26jl9F0cnL...</td>\n",
       "      <td>***Call Us for more information at: 201-635-14...</td>\n",
       "      <td>NaN</td>\n",
       "      <td>nj</td>\n",
       "      <td>40.821805</td>\n",
       "      <td>-74.061962</td>\n",
       "      <td>2021-05-03T15:40:21-0400</td>\n",
       "      <td>medium</td>\n",
       "    </tr>\n",
       "    <tr>\n",
       "      <th>2</th>\n",
       "      <td>7313733749</td>\n",
       "      <td>https://reno.craigslist.org/ctd/d/atlanta-2017...</td>\n",
       "      <td>reno / tahoe</td>\n",
       "      <td>https://reno.craigslist.org</td>\n",
       "      <td>35590</td>\n",
       "      <td>2017.0</td>\n",
       "      <td>volkswagen</td>\n",
       "      <td>golf r hatchback</td>\n",
       "      <td>good</td>\n",
       "      <td>NaN</td>\n",
       "      <td>...</td>\n",
       "      <td>sedan</td>\n",
       "      <td>NaN</td>\n",
       "      <td>https://images.craigslist.org/00y0y_eeZjWeiSfb...</td>\n",
       "      <td>Carvana is the safer way to buy a car During t...</td>\n",
       "      <td>NaN</td>\n",
       "      <td>ca</td>\n",
       "      <td>33.779214</td>\n",
       "      <td>-84.411811</td>\n",
       "      <td>2021-04-28T03:52:20-0700</td>\n",
       "      <td>high</td>\n",
       "    </tr>\n",
       "    <tr>\n",
       "      <th>3</th>\n",
       "      <td>7308210929</td>\n",
       "      <td>https://fayetteville.craigslist.org/ctd/d/rale...</td>\n",
       "      <td>fayetteville</td>\n",
       "      <td>https://fayetteville.craigslist.org</td>\n",
       "      <td>14500</td>\n",
       "      <td>2013.0</td>\n",
       "      <td>toyota</td>\n",
       "      <td>rav4</td>\n",
       "      <td>NaN</td>\n",
       "      <td>NaN</td>\n",
       "      <td>...</td>\n",
       "      <td>wagon</td>\n",
       "      <td>white</td>\n",
       "      <td>https://images.craigslist.org/00606_iGe5iXidib...</td>\n",
       "      <td>2013 Toyota RAV4 XLE 4dr SUV     Offered by: R...</td>\n",
       "      <td>NaN</td>\n",
       "      <td>nc</td>\n",
       "      <td>35.715954</td>\n",
       "      <td>-78.655304</td>\n",
       "      <td>2021-04-17T10:08:57-0400</td>\n",
       "      <td>medium</td>\n",
       "    </tr>\n",
       "    <tr>\n",
       "      <th>4</th>\n",
       "      <td>7316474668</td>\n",
       "      <td>https://newyork.craigslist.org/lgi/cto/d/baldw...</td>\n",
       "      <td>new york city</td>\n",
       "      <td>https://newyork.craigslist.org</td>\n",
       "      <td>21800</td>\n",
       "      <td>2021.0</td>\n",
       "      <td>nissan</td>\n",
       "      <td>altima</td>\n",
       "      <td>new</td>\n",
       "      <td>4 cylinders</td>\n",
       "      <td>...</td>\n",
       "      <td>NaN</td>\n",
       "      <td>NaN</td>\n",
       "      <td>https://images.craigslist.org/00V0V_3pSOiPZ3Sd...</td>\n",
       "      <td>2021 Nissan Altima Sv with Only 8 K Miles Titl...</td>\n",
       "      <td>NaN</td>\n",
       "      <td>ny</td>\n",
       "      <td>40.654800</td>\n",
       "      <td>-73.609700</td>\n",
       "      <td>2021-05-03T18:32:06-0400</td>\n",
       "      <td>medium</td>\n",
       "    </tr>\n",
       "  </tbody>\n",
       "</table>\n",
       "<p>5 rows × 27 columns</p>\n",
       "</div>"
      ],
      "text/plain": [
       "           id                                                url  \\\n",
       "0  7308295377  https://chattanooga.craigslist.org/ctd/d/chatt...   \n",
       "1  7316380095  https://newjersey.craigslist.org/ctd/d/carlsta...   \n",
       "2  7313733749  https://reno.craigslist.org/ctd/d/atlanta-2017...   \n",
       "3  7308210929  https://fayetteville.craigslist.org/ctd/d/rale...   \n",
       "4  7316474668  https://newyork.craigslist.org/lgi/cto/d/baldw...   \n",
       "\n",
       "          region                           region_url  price    year  \\\n",
       "0    chattanooga   https://chattanooga.craigslist.org  54990  2020.0   \n",
       "1   north jersey     https://newjersey.craigslist.org  16942  2016.0   \n",
       "2   reno / tahoe          https://reno.craigslist.org  35590  2017.0   \n",
       "3   fayetteville  https://fayetteville.craigslist.org  14500  2013.0   \n",
       "4  new york city       https://newyork.craigslist.org  21800  2021.0   \n",
       "\n",
       "  manufacturer                   model condition    cylinders  ...    type  \\\n",
       "0          ram  2500 crew cab big horn      good          NaN  ...  pickup   \n",
       "1         ford    explorer 4wd 4dr xlt       NaN  6 cylinders  ...     SUV   \n",
       "2   volkswagen        golf r hatchback      good          NaN  ...   sedan   \n",
       "3       toyota                    rav4       NaN          NaN  ...   wagon   \n",
       "4       nissan                  altima       new  4 cylinders  ...     NaN   \n",
       "\n",
       "   paint_color                                          image_url  \\\n",
       "0       silver  https://images.craigslist.org/00N0N_1xMPvfxRAI...   \n",
       "1        black  https://images.craigslist.org/00x0x_26jl9F0cnL...   \n",
       "2          NaN  https://images.craigslist.org/00y0y_eeZjWeiSfb...   \n",
       "3        white  https://images.craigslist.org/00606_iGe5iXidib...   \n",
       "4          NaN  https://images.craigslist.org/00V0V_3pSOiPZ3Sd...   \n",
       "\n",
       "                                         description county state        lat  \\\n",
       "0  Carvana is the safer way to buy a car During t...    NaN    tn  35.060000   \n",
       "1  ***Call Us for more information at: 201-635-14...    NaN    nj  40.821805   \n",
       "2  Carvana is the safer way to buy a car During t...    NaN    ca  33.779214   \n",
       "3  2013 Toyota RAV4 XLE 4dr SUV     Offered by: R...    NaN    nc  35.715954   \n",
       "4  2021 Nissan Altima Sv with Only 8 K Miles Titl...    NaN    ny  40.654800   \n",
       "\n",
       "        long              posting_date price_category  \n",
       "0 -85.250000  2021-04-17T12:30:50-0400           high  \n",
       "1 -74.061962  2021-05-03T15:40:21-0400         medium  \n",
       "2 -84.411811  2021-04-28T03:52:20-0700           high  \n",
       "3 -78.655304  2021-04-17T10:08:57-0400         medium  \n",
       "4 -73.609700  2021-05-03T18:32:06-0400         medium  \n",
       "\n",
       "[5 rows x 27 columns]"
      ]
     },
     "execution_count": 2,
     "metadata": {},
     "output_type": "execute_result"
    }
   ],
   "source": [
    "df = pd.read_csv('D:/games/homework/da-homeworks-baganets/17-data-preparation/vehicles_dataset.csv')\n",
    "df.head()\n",
    "# Ваш код здесь"
   ]
  },
  {
   "cell_type": "markdown",
   "id": "35446af7",
   "metadata": {
    "id": "35446af7"
   },
   "source": [
    "2. Выведите размер датасета.\n"
   ]
  },
  {
   "cell_type": "code",
   "execution_count": 4,
   "id": "67b4bf56",
   "metadata": {
    "id": "67b4bf56"
   },
   "outputs": [
    {
     "ename": "NameError",
     "evalue": "name 'df' is not defined",
     "output_type": "error",
     "traceback": [
      "\u001b[1;31m---------------------------------------------------------------------------\u001b[0m",
      "\u001b[1;31mNameError\u001b[0m                                 Traceback (most recent call last)",
      "Cell \u001b[1;32mIn[4], line 1\u001b[0m\n\u001b[1;32m----> 1\u001b[0m \u001b[38;5;28mprint\u001b[39m(\u001b[43mdf\u001b[49m\u001b[38;5;241m.\u001b[39mshape)\n\u001b[0;32m      2\u001b[0m df\u001b[38;5;241m.\u001b[39mhead()\n\u001b[0;32m      3\u001b[0m \u001b[38;5;66;03m# Ваш код здесь\u001b[39;00m\n",
      "\u001b[1;31mNameError\u001b[0m: name 'df' is not defined"
     ]
    }
   ],
   "source": [
    "df.shape\n",
    "# Ваш код здесь"
   ]
  },
  {
   "cell_type": "markdown",
   "id": "35e95da9",
   "metadata": {
    "id": "35e95da9"
   },
   "source": [
    "3. Выведите список колонок датасета."
   ]
  },
  {
   "cell_type": "code",
   "execution_count": 21,
   "id": "b0f7042e",
   "metadata": {
    "ExecuteTime": {
     "end_time": "2022-01-13T22:35:42.388526Z",
     "start_time": "2022-01-13T22:35:42.330940Z"
    },
    "id": "b0f7042e"
   },
   "outputs": [
    {
     "ename": "NameError",
     "evalue": "name 'df' is not defined",
     "output_type": "error",
     "traceback": [
      "\u001b[1;31m---------------------------------------------------------------------------\u001b[0m",
      "\u001b[1;31mNameError\u001b[0m                                 Traceback (most recent call last)",
      "Cell \u001b[1;32mIn[21], line 1\u001b[0m\n\u001b[1;32m----> 1\u001b[0m \u001b[43mdf\u001b[49m\u001b[38;5;241m.\u001b[39mmarital\u001b[38;5;241m.\u001b[39mvalues\u001b[38;5;241m.\u001b[39mtolist()\n\u001b[0;32m      2\u001b[0m \u001b[38;5;66;03m# Ваш код здесь\u001b[39;00m\n",
      "\u001b[1;31mNameError\u001b[0m: name 'df' is not defined"
     ]
    }
   ],
   "source": [
    "for col in df:\n",
    "    print(col)\n",
    "# Ваш код здесь"
   ]
  },
  {
   "cell_type": "markdown",
   "id": "ad304fe2",
   "metadata": {
    "id": "ad304fe2"
   },
   "source": [
    "4. Выведите описательные статистики для всего датасета (обязательно укажите верный параметр для этого)."
   ]
  },
  {
   "cell_type": "code",
   "execution_count": 22,
   "id": "277c5a24",
   "metadata": {
    "id": "277c5a24"
   },
   "outputs": [
    {
     "ename": "NameError",
     "evalue": "name 'df' is not defined",
     "output_type": "error",
     "traceback": [
      "\u001b[1;31m---------------------------------------------------------------------------\u001b[0m",
      "\u001b[1;31mNameError\u001b[0m                                 Traceback (most recent call last)",
      "Cell \u001b[1;32mIn[22], line 1\u001b[0m\n\u001b[1;32m----> 1\u001b[0m \u001b[43mdf\u001b[49m\u001b[38;5;241m.\u001b[39mmarital\u001b[38;5;241m.\u001b[39munique()\n\u001b[0;32m      2\u001b[0m \u001b[38;5;66;03m# Ваш код здесь\u001b[39;00m\n",
      "\u001b[1;31mNameError\u001b[0m: name 'df' is not defined"
     ]
    }
   ],
   "source": [
    "df.describe()\n",
    "# Ваш код здесь"
   ]
  },
  {
   "cell_type": "markdown",
   "id": "7836f033",
   "metadata": {
    "ExecuteTime": {
     "end_time": "2022-01-13T23:04:16.245970Z",
     "start_time": "2022-01-13T23:04:16.239711Z"
    },
    "id": "7836f033"
   },
   "source": [
    "### Задача 2. Исследование переменных датасета\n",
    "**Что нужно сделать**\n",
    "\n",
    "После ознакомления с датасетом посмотрите, какие значения принимают переменные с характеристиками.\n",
    "\n",
    "Распечатайте в цикле по каждой колонке название колонки, количество уникальных значений, а затем список возможных значений вместе с их количеством появления в датасете.\n",
    "\n",
    "При выводе информации по каждой характеристике придерживайтесь шаблона.\n",
    "\n",
    "```\n",
    "Характеристика: id\n",
    "Количество уникальных значений: 10000\n",
    "Список значений:\n",
    "7303629857    2\n",
    "7315995136    2\n",
    "7316719393    2\n",
    "7309842734    2\n",
    "7307971804    2\n",
    "             ..\n",
    "7303843163    1\n",
    "7315223900    1\n",
    "7309940769    1\n",
    "7309251820    1\n",
    "7316428067    1\n",
    "Name: id, Length: 10000, dtype: int64\n",
    "```"
   ]
  },
  {
   "cell_type": "code",
   "execution_count": null,
   "id": "b5024f7a",
   "metadata": {
    "id": "b5024f7a"
   },
   "outputs": [],
   "source": [
    "for column in df.columns:\n",
    "    print(f'Характеристика: {column}')\n",
    "    print(f'Количество уникальных значений: {df[column].nunique()}')\n",
    "    print('Список значений:')\n",
    "    print(df[column].value_counts())\n",
    "    print()\n",
    "# Ваш код здесь"
   ]
  },
  {
   "cell_type": "markdown",
   "id": "6bd31b3f",
   "metadata": {
    "id": "6bd31b3f"
   },
   "source": [
    "### Задача 3. Определение типов переменных в датасете\n",
    "**Что нужно сделать**\n",
    "\n",
    "После ознакомления с характеристиками заполните в таблице, к какому типу относятся некоторые переменные. Для этого на пересечении названия переменной и типа переменной проставьте «X».\n",
    "\n",
    "\n",
    "|  Переменная    | Дискретная | Непрерывная | Качественная |\n",
    "|----------------|------------|-------------|--------------|\n",
    "| id             | X          |             |              |\n",
    "| region         |            |             |      X       |\n",
    "| year           |  X         |             |              |\n",
    "| manufacturer   |            |             |     X        |\n",
    "| condition      |            |             |     X        |\n",
    "| fuel           |            |             |     X        |\n",
    "| odometer       |            |     X       |              |\n",
    "| title_status   |            |             |     X        |\n",
    "| transmission   |            |             |     X        |\n",
    "| VIN            |            |      X      |              |\n",
    "| drive          |            |             |     X        |\n",
    "| paint_color    |            |             |     X        |\n",
    "| state          |            |             |     X        |\n",
    "| price_category |            |             |     X        |\n"
   ]
  },
  {
   "cell_type": "markdown",
   "id": "ZZSmo9bwiNeP",
   "metadata": {
    "id": "ZZSmo9bwiNeP"
   },
   "source": [
    "### Задача 4. Определение целевой переменной в данных и распределения переменных\n",
    "**Что нужно сделать**\n",
    "\n",
    "1. Исходя из поставленной задачи определите, в какой колонке находится целевая переменная.\n",
    "\n",
    "\n",
    "\n",
    "**Ответ:** price_category"
   ]
  },
  {
   "cell_type": "markdown",
   "id": "usHGGkBpkzUi",
   "metadata": {
    "id": "usHGGkBpkzUi"
   },
   "source": [
    "2. Выведите для каждого значения целевой переменной его долю вхождения в выборку.\n"
   ]
  },
  {
   "cell_type": "code",
   "execution_count": null,
   "id": "q7hPwXQllXkY",
   "metadata": {
    "id": "q7hPwXQllXkY"
   },
   "outputs": [],
   "source": [
    "value_counts = df['price_category'].value_counts(normalize=True)\n",
    "value_counts\n",
    "# Ваш код здесь"
   ]
  },
  {
   "cell_type": "markdown",
   "id": "TLPoUkHBmw__",
   "metadata": {
    "id": "TLPoUkHBmw__"
   },
   "source": [
    "3. Ещё раз посмотрите на долю или количество вхождений каждого значения целевой переменной в выборку и напишите, какое это распределение. Определить, как распределены значения целевой переменной, в данном случае можно и без графика. \n",
    "\n",
    "**Ответ:** равномерное"
   ]
  },
  {
   "cell_type": "code",
   "execution_count": null,
   "id": "U4macJgemxnw",
   "metadata": {
    "id": "U4macJgemxnw"
   },
   "outputs": [],
   "source": []
  }
 ],
 "metadata": {
  "colab": {
   "collapsed_sections": [],
   "name": "17.8_Практическая работа.ipynb",
   "provenance": []
  },
  "kernelspec": {
   "display_name": "Python 3",
   "language": "python",
   "name": "python3"
  },
  "language_info": {
   "codemirror_mode": {
    "name": "ipython",
    "version": 3
   },
   "file_extension": ".py",
   "mimetype": "text/x-python",
   "name": "python",
   "nbconvert_exporter": "python",
   "pygments_lexer": "ipython3",
   "version": "3.12.0"
  },
  "toc": {
   "base_numbering": 1,
   "nav_menu": {},
   "number_sections": true,
   "sideBar": true,
   "skip_h1_title": false,
   "title_cell": "Table of Contents",
   "title_sidebar": "Contents",
   "toc_cell": false,
   "toc_position": {},
   "toc_section_display": true,
   "toc_window_display": false
  }
 },
 "nbformat": 4,
 "nbformat_minor": 5
}
