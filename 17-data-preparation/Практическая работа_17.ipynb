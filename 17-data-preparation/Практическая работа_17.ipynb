{
 "cells": [
  {
   "cell_type": "markdown",
   "id": "d155b010",
   "metadata": {
    "id": "d155b010"
   },
   "source": [
    "# Data Preparation. Практическая работа"
   ]
  },
  {
   "cell_type": "markdown",
   "id": "d30db0d4",
   "metadata": {
    "id": "d30db0d4"
   },
   "source": [
    "## Цели практической работы\n",
    "1. Потренироваться определять типы переменных в датасете, целевую переменную из постановки задачи, распределение переменных.\n",
    "2. Познакомиться с задачей, предстоящей на этапе моделирования.\n",
    "3. Начать исследовать данные для этапа моделирования.\n",
    "\n"
   ]
  },
  {
   "cell_type": "markdown",
   "id": "306ac2de",
   "metadata": {
    "id": "306ac2de"
   },
   "source": [
    "## Что входит в практическую работу\n",
    "1. Загрузить датасет и ознакомиться с ним.\n",
    "2. Исследовать переменные датасета.\n",
    "3. Определить типы переменных в датасете.\n",
    "4. Определить целевую переменную в данных и распределение переменных.\n",
    "\n",
    "\n"
   ]
  },
  {
   "cell_type": "markdown",
   "id": "9994d02b",
   "metadata": {
    "id": "9994d02b"
   },
   "source": [
    "## Что оценивается\n",
    "- Программа выдаёт верный ответ на заданном наборе данных.\n",
    "- Описаны причины выбранного решения, если требуется.\n",
    "- Код читабелен: переменным даны осмысленные названия, отступы и правила расстановки пробелов соблюдены.\n",
    "- Репозиторий проекта содержит осмысленные коммиты, содержащие конкретные реализованные фичи, ветки названы согласно назначению, лишние файлы не хранятся в репозитории.\n",
    "- В репозитории проекта соблюдена иерархия директорий согласно списку модулей и содержащихся в них уроках.\n",
    "- Репозиторий проекта содержит файлы с данными, полученными в результате выполнения практической работы.\n"
   ]
  },
  {
   "cell_type": "markdown",
   "id": "1aec0d81",
   "metadata": {
    "id": "1aec0d81"
   },
   "source": [
    "## Как отправить работу на проверку\n",
    "Сдайте практическую работу этого модуля через систему контроля версий Git сервиса Skillbox GitLab. После загрузки работы на проверку напишите об этом в личном кабинете своему проверяющему преподавателю.\n"
   ]
  },
  {
   "cell_type": "markdown",
   "id": "7bf82afb",
   "metadata": {
    "ExecuteTime": {
     "end_time": "2022-01-11T22:44:08.573461Z",
     "start_time": "2022-01-11T22:44:08.527557Z"
    },
    "id": "7bf82afb"
   },
   "source": [
    "## Задача\n",
    "\n",
    "Начиная с этого урока вы начнёте исследовать и готовить данные для этапа моделирования.\n",
    "\n",
    "Вам предстоит работать с небольшой выборкой из коллекции подержанных автомобилей, выставленных на продажу в Соединённых Штатах, представленной в файле `data/vehicles_dataset.csv`. На этих данных вы построите первую модель классификации, определяющую категорию цены подержанного автомобиля в зависимости от характеристик транспортного средства.\n",
    "В этой практической работе вы загрузите датасет и начнёте его исследование.\n",
    "\n",
    "\n",
    "## Описание датасета:\n",
    "- `id`: идентификатор записи;\n",
    "- `url`: URL записи о продаже;\n",
    "- `region`: регион;\n",
    "- `region_url`: URL региона;\n",
    "- `price`: стоимость;\n",
    "- `year`: год выпуска;\n",
    "- `manufacturer`: производитель;\n",
    "- `model`: модель;\n",
    "- `condition`: состояние;\n",
    "- `cylinders`: количество цилиндров;\n",
    "- `fuel`: тип топлива;\n",
    "- `odometer`: количество пройденных миль;\n",
    "- `title_status`: статус;\n",
    "- `transmission`: коробка передач;\n",
    "- `VIN`: идентификационный номер;\n",
    "- `drive`: тип привода;\n",
    "- `size`: размер;\n",
    "- `type`: кузов;\n",
    "- `paint_color`: цвет;\n",
    "- `image_url`: URL изображения;\n",
    "- `description`: указанное описание;\n",
    "- `county`: страна;\n",
    "- `state`: штат;\n",
    "- `lat`: широта;\n",
    "- `long`: долгота;\n",
    "- `posting_date`: дата размещения объявления о продаже;\n",
    "- `price_category`: категория цены.\n"
   ]
  },
  {
   "cell_type": "code",
   "execution_count": 1,
   "id": "66f36a2e",
   "metadata": {
    "id": "66f36a2e"
   },
   "outputs": [],
   "source": [
    "import pandas as pd\n",
    "#библиотеки?"
   ]
  },
  {
   "cell_type": "markdown",
   "id": "abd6f091",
   "metadata": {
    "id": "abd6f091"
   },
   "source": [
    "### Задача 1. Загрузка датасета и ознакомление с ним\n",
    "**Что нужно сделать**\n",
    "\n",
    "Для начала требуется загрузить датасет и ознакомиться с его характеристиками.\n",
    "\n",
    "1. Загрузите датасет из `data/vehicles_dataset.csv` и выведите его.\n"
   ]
  },
  {
   "cell_type": "code",
   "execution_count": 12,
   "id": "65aafba1",
   "metadata": {
    "id": "65aafba1"
   },
   "outputs": [
    {
     "ename": "ParserError",
     "evalue": "Error tokenizing data. C error: Buffer overflow caught - possible malformed input file.\n",
     "output_type": "error",
     "traceback": [
      "\u001b[1;31m---------------------------------------------------------------------------\u001b[0m",
      "\u001b[1;31mParserError\u001b[0m                               Traceback (most recent call last)",
      "Cell \u001b[1;32mIn[12], line 1\u001b[0m\n\u001b[1;32m----> 1\u001b[0m df \u001b[38;5;241m=\u001b[39m \u001b[43mpd\u001b[49m\u001b[38;5;241;43m.\u001b[39;49m\u001b[43mread_csv\u001b[49m\u001b[43m(\u001b[49m\u001b[38;5;124;43m'\u001b[39;49m\u001b[38;5;124;43mvehicles_dataset.csv\u001b[39;49m\u001b[38;5;124;43m'\u001b[39;49m\u001b[43m,\u001b[49m\u001b[43m \u001b[49m\u001b[43msep\u001b[49m\u001b[38;5;241;43m=\u001b[39;49m\u001b[38;5;124;43m'\u001b[39;49m\u001b[38;5;124;43m;\u001b[39;49m\u001b[38;5;124;43m'\u001b[39;49m\u001b[43m)\u001b[49m\n\u001b[0;32m      2\u001b[0m \u001b[38;5;28mprint\u001b[39m(df\u001b[38;5;241m.\u001b[39mshape)\n\u001b[0;32m      3\u001b[0m df\u001b[38;5;241m.\u001b[39mhead()\n",
      "File \u001b[1;32mc:\\Users\\я\\AppData\\Local\\Programs\\Python\\Python312\\Lib\\site-packages\\pandas\\io\\parsers\\readers.py:1026\u001b[0m, in \u001b[0;36mread_csv\u001b[1;34m(filepath_or_buffer, sep, delimiter, header, names, index_col, usecols, dtype, engine, converters, true_values, false_values, skipinitialspace, skiprows, skipfooter, nrows, na_values, keep_default_na, na_filter, verbose, skip_blank_lines, parse_dates, infer_datetime_format, keep_date_col, date_parser, date_format, dayfirst, cache_dates, iterator, chunksize, compression, thousands, decimal, lineterminator, quotechar, quoting, doublequote, escapechar, comment, encoding, encoding_errors, dialect, on_bad_lines, delim_whitespace, low_memory, memory_map, float_precision, storage_options, dtype_backend)\u001b[0m\n\u001b[0;32m   1013\u001b[0m kwds_defaults \u001b[38;5;241m=\u001b[39m _refine_defaults_read(\n\u001b[0;32m   1014\u001b[0m     dialect,\n\u001b[0;32m   1015\u001b[0m     delimiter,\n\u001b[1;32m   (...)\u001b[0m\n\u001b[0;32m   1022\u001b[0m     dtype_backend\u001b[38;5;241m=\u001b[39mdtype_backend,\n\u001b[0;32m   1023\u001b[0m )\n\u001b[0;32m   1024\u001b[0m kwds\u001b[38;5;241m.\u001b[39mupdate(kwds_defaults)\n\u001b[1;32m-> 1026\u001b[0m \u001b[38;5;28;01mreturn\u001b[39;00m \u001b[43m_read\u001b[49m\u001b[43m(\u001b[49m\u001b[43mfilepath_or_buffer\u001b[49m\u001b[43m,\u001b[49m\u001b[43m \u001b[49m\u001b[43mkwds\u001b[49m\u001b[43m)\u001b[49m\n",
      "File \u001b[1;32mc:\\Users\\я\\AppData\\Local\\Programs\\Python\\Python312\\Lib\\site-packages\\pandas\\io\\parsers\\readers.py:626\u001b[0m, in \u001b[0;36m_read\u001b[1;34m(filepath_or_buffer, kwds)\u001b[0m\n\u001b[0;32m    623\u001b[0m     \u001b[38;5;28;01mreturn\u001b[39;00m parser\n\u001b[0;32m    625\u001b[0m \u001b[38;5;28;01mwith\u001b[39;00m parser:\n\u001b[1;32m--> 626\u001b[0m     \u001b[38;5;28;01mreturn\u001b[39;00m \u001b[43mparser\u001b[49m\u001b[38;5;241;43m.\u001b[39;49m\u001b[43mread\u001b[49m\u001b[43m(\u001b[49m\u001b[43mnrows\u001b[49m\u001b[43m)\u001b[49m\n",
      "File \u001b[1;32mc:\\Users\\я\\AppData\\Local\\Programs\\Python\\Python312\\Lib\\site-packages\\pandas\\io\\parsers\\readers.py:1923\u001b[0m, in \u001b[0;36mTextFileReader.read\u001b[1;34m(self, nrows)\u001b[0m\n\u001b[0;32m   1916\u001b[0m nrows \u001b[38;5;241m=\u001b[39m validate_integer(\u001b[38;5;124m\"\u001b[39m\u001b[38;5;124mnrows\u001b[39m\u001b[38;5;124m\"\u001b[39m, nrows)\n\u001b[0;32m   1917\u001b[0m \u001b[38;5;28;01mtry\u001b[39;00m:\n\u001b[0;32m   1918\u001b[0m     \u001b[38;5;66;03m# error: \"ParserBase\" has no attribute \"read\"\u001b[39;00m\n\u001b[0;32m   1919\u001b[0m     (\n\u001b[0;32m   1920\u001b[0m         index,\n\u001b[0;32m   1921\u001b[0m         columns,\n\u001b[0;32m   1922\u001b[0m         col_dict,\n\u001b[1;32m-> 1923\u001b[0m     ) \u001b[38;5;241m=\u001b[39m \u001b[38;5;28;43mself\u001b[39;49m\u001b[38;5;241;43m.\u001b[39;49m\u001b[43m_engine\u001b[49m\u001b[38;5;241;43m.\u001b[39;49m\u001b[43mread\u001b[49m\u001b[43m(\u001b[49m\u001b[43m  \u001b[49m\u001b[38;5;66;43;03m# type: ignore[attr-defined]\u001b[39;49;00m\n\u001b[0;32m   1924\u001b[0m \u001b[43m        \u001b[49m\u001b[43mnrows\u001b[49m\n\u001b[0;32m   1925\u001b[0m \u001b[43m    \u001b[49m\u001b[43m)\u001b[49m\n\u001b[0;32m   1926\u001b[0m \u001b[38;5;28;01mexcept\u001b[39;00m \u001b[38;5;167;01mException\u001b[39;00m:\n\u001b[0;32m   1927\u001b[0m     \u001b[38;5;28mself\u001b[39m\u001b[38;5;241m.\u001b[39mclose()\n",
      "File \u001b[1;32mc:\\Users\\я\\AppData\\Local\\Programs\\Python\\Python312\\Lib\\site-packages\\pandas\\io\\parsers\\c_parser_wrapper.py:234\u001b[0m, in \u001b[0;36mCParserWrapper.read\u001b[1;34m(self, nrows)\u001b[0m\n\u001b[0;32m    232\u001b[0m \u001b[38;5;28;01mtry\u001b[39;00m:\n\u001b[0;32m    233\u001b[0m     \u001b[38;5;28;01mif\u001b[39;00m \u001b[38;5;28mself\u001b[39m\u001b[38;5;241m.\u001b[39mlow_memory:\n\u001b[1;32m--> 234\u001b[0m         chunks \u001b[38;5;241m=\u001b[39m \u001b[38;5;28;43mself\u001b[39;49m\u001b[38;5;241;43m.\u001b[39;49m\u001b[43m_reader\u001b[49m\u001b[38;5;241;43m.\u001b[39;49m\u001b[43mread_low_memory\u001b[49m\u001b[43m(\u001b[49m\u001b[43mnrows\u001b[49m\u001b[43m)\u001b[49m\n\u001b[0;32m    235\u001b[0m         \u001b[38;5;66;03m# destructive to chunks\u001b[39;00m\n\u001b[0;32m    236\u001b[0m         data \u001b[38;5;241m=\u001b[39m _concatenate_chunks(chunks)\n",
      "File \u001b[1;32mparsers.pyx:838\u001b[0m, in \u001b[0;36mpandas._libs.parsers.TextReader.read_low_memory\u001b[1;34m()\u001b[0m\n",
      "File \u001b[1;32mparsers.pyx:905\u001b[0m, in \u001b[0;36mpandas._libs.parsers.TextReader._read_rows\u001b[1;34m()\u001b[0m\n",
      "File \u001b[1;32mparsers.pyx:874\u001b[0m, in \u001b[0;36mpandas._libs.parsers.TextReader._tokenize_rows\u001b[1;34m()\u001b[0m\n",
      "File \u001b[1;32mparsers.pyx:891\u001b[0m, in \u001b[0;36mpandas._libs.parsers.TextReader._check_tokenize_status\u001b[1;34m()\u001b[0m\n",
      "File \u001b[1;32mparsers.pyx:2061\u001b[0m, in \u001b[0;36mpandas._libs.parsers.raise_parser_error\u001b[1;34m()\u001b[0m\n",
      "\u001b[1;31mParserError\u001b[0m: Error tokenizing data. C error: Buffer overflow caught - possible malformed input file.\n"
     ]
    }
   ],
   "source": [
    "df = pd.read_csv('vehicles_dataset.csv', sep=';')\n",
    "print(df.shape)\n",
    "df.head()\n",
    "# Ваш код здесь"
   ]
  },
  {
   "cell_type": "markdown",
   "id": "35446af7",
   "metadata": {
    "id": "35446af7"
   },
   "source": [
    "2. Выведите размер датасета.\n"
   ]
  },
  {
   "cell_type": "code",
   "execution_count": 4,
   "id": "67b4bf56",
   "metadata": {
    "id": "67b4bf56"
   },
   "outputs": [
    {
     "ename": "NameError",
     "evalue": "name 'df' is not defined",
     "output_type": "error",
     "traceback": [
      "\u001b[1;31m---------------------------------------------------------------------------\u001b[0m",
      "\u001b[1;31mNameError\u001b[0m                                 Traceback (most recent call last)",
      "Cell \u001b[1;32mIn[4], line 1\u001b[0m\n\u001b[1;32m----> 1\u001b[0m \u001b[38;5;28mprint\u001b[39m(\u001b[43mdf\u001b[49m\u001b[38;5;241m.\u001b[39mshape)\n\u001b[0;32m      2\u001b[0m df\u001b[38;5;241m.\u001b[39mhead()\n\u001b[0;32m      3\u001b[0m \u001b[38;5;66;03m# Ваш код здесь\u001b[39;00m\n",
      "\u001b[1;31mNameError\u001b[0m: name 'df' is not defined"
     ]
    }
   ],
   "source": [
    "print(df.shape)\n",
    "df.head()\n",
    "# Ваш код здесь"
   ]
  },
  {
   "cell_type": "markdown",
   "id": "35e95da9",
   "metadata": {
    "id": "35e95da9"
   },
   "source": [
    "3. Выведите список колонок датасета."
   ]
  },
  {
   "cell_type": "code",
   "execution_count": 21,
   "id": "b0f7042e",
   "metadata": {
    "ExecuteTime": {
     "end_time": "2022-01-13T22:35:42.388526Z",
     "start_time": "2022-01-13T22:35:42.330940Z"
    },
    "id": "b0f7042e"
   },
   "outputs": [
    {
     "ename": "NameError",
     "evalue": "name 'df' is not defined",
     "output_type": "error",
     "traceback": [
      "\u001b[1;31m---------------------------------------------------------------------------\u001b[0m",
      "\u001b[1;31mNameError\u001b[0m                                 Traceback (most recent call last)",
      "Cell \u001b[1;32mIn[21], line 1\u001b[0m\n\u001b[1;32m----> 1\u001b[0m \u001b[43mdf\u001b[49m\u001b[38;5;241m.\u001b[39mmarital\u001b[38;5;241m.\u001b[39mvalues\u001b[38;5;241m.\u001b[39mtolist()\n\u001b[0;32m      2\u001b[0m \u001b[38;5;66;03m# Ваш код здесь\u001b[39;00m\n",
      "\u001b[1;31mNameError\u001b[0m: name 'df' is not defined"
     ]
    }
   ],
   "source": [
    "df.values()\n",
    "# Ваш код здесь"
   ]
  },
  {
   "cell_type": "markdown",
   "id": "ad304fe2",
   "metadata": {
    "id": "ad304fe2"
   },
   "source": [
    "4. Выведите описательные статистики для всего датасета (обязательно укажите верный параметр для этого)."
   ]
  },
  {
   "cell_type": "code",
   "execution_count": 22,
   "id": "277c5a24",
   "metadata": {
    "id": "277c5a24"
   },
   "outputs": [
    {
     "ename": "NameError",
     "evalue": "name 'df' is not defined",
     "output_type": "error",
     "traceback": [
      "\u001b[1;31m---------------------------------------------------------------------------\u001b[0m",
      "\u001b[1;31mNameError\u001b[0m                                 Traceback (most recent call last)",
      "Cell \u001b[1;32mIn[22], line 1\u001b[0m\n\u001b[1;32m----> 1\u001b[0m \u001b[43mdf\u001b[49m\u001b[38;5;241m.\u001b[39mmarital\u001b[38;5;241m.\u001b[39munique()\n\u001b[0;32m      2\u001b[0m \u001b[38;5;66;03m# Ваш код здесь\u001b[39;00m\n",
      "\u001b[1;31mNameError\u001b[0m: name 'df' is not defined"
     ]
    }
   ],
   "source": [
    "df.unique()\n",
    "# Ваш код здесь"
   ]
  },
  {
   "cell_type": "markdown",
   "id": "7836f033",
   "metadata": {
    "ExecuteTime": {
     "end_time": "2022-01-13T23:04:16.245970Z",
     "start_time": "2022-01-13T23:04:16.239711Z"
    },
    "id": "7836f033"
   },
   "source": [
    "### Задача 2. Исследование переменных датасета\n",
    "**Что нужно сделать**\n",
    "\n",
    "После ознакомления с датасетом посмотрите, какие значения принимают переменные с характеристиками.\n",
    "\n",
    "Распечатайте в цикле по каждой колонке название колонки, количество уникальных значений, а затем список возможных значений вместе с их количеством появления в датасете.\n",
    "\n",
    "При выводе информации по каждой характеристике придерживайтесь шаблона.\n",
    "\n",
    "```\n",
    "Характеристика: id\n",
    "Количество уникальных значений: 10000\n",
    "Список значений:\n",
    "7303629857    2\n",
    "7315995136    2\n",
    "7316719393    2\n",
    "7309842734    2\n",
    "7307971804    2\n",
    "             ..\n",
    "7303843163    1\n",
    "7315223900    1\n",
    "7309940769    1\n",
    "7309251820    1\n",
    "7316428067    1\n",
    "Name: id, Length: 10000, dtype: int64\n",
    "```"
   ]
  },
  {
   "cell_type": "code",
   "execution_count": null,
   "id": "b5024f7a",
   "metadata": {
    "id": "b5024f7a"
   },
   "outputs": [],
   "source": [
    "# Ваш код здесь"
   ]
  },
  {
   "cell_type": "markdown",
   "id": "6bd31b3f",
   "metadata": {
    "id": "6bd31b3f"
   },
   "source": [
    "### Задача 3. Определение типов переменных в датасете\n",
    "**Что нужно сделать**\n",
    "\n",
    "После ознакомления с характеристиками заполните в таблице, к какому типу относятся некоторые переменные. Для этого на пересечении названия переменной и типа переменной проставьте «X».\n",
    "\n",
    "\n",
    "|  Переменная    | Дискретная | Непрерывная | Качественная |\n",
    "|----------------|------------|-------------|--------------|\n",
    "| id             | X          |             |              |\n",
    "| region         |            |             |              |\n",
    "| year           |            |             |              |\n",
    "| manufacturer   |            |             |              |\n",
    "| condition      |            |             |              |\n",
    "| fuel           |            |             |              |\n",
    "| odometer       |            |             |              |\n",
    "| title_status   |            |             |              |\n",
    "| transmission   |            |             |              |\n",
    "| VIN            |            |             |              |\n",
    "| drive          |            |             |              |\n",
    "| paint_color    |            |             |              |\n",
    "| state          |            |             |              |\n",
    "| price_category |            |             |              |\n"
   ]
  },
  {
   "cell_type": "markdown",
   "id": "ZZSmo9bwiNeP",
   "metadata": {
    "id": "ZZSmo9bwiNeP"
   },
   "source": [
    "### Задача 4. Определение целевой переменной в данных и распределения переменных\n",
    "**Что нужно сделать**\n",
    "\n",
    "1. Исходя из поставленной задачи определите, в какой колонке находится целевая переменная.\n",
    "\n",
    "\n",
    "\n",
    "**Ответ:** _ваш ответ_"
   ]
  },
  {
   "cell_type": "markdown",
   "id": "usHGGkBpkzUi",
   "metadata": {
    "id": "usHGGkBpkzUi"
   },
   "source": [
    "2. Выведите для каждого значения целевой переменной его долю вхождения в выборку.\n"
   ]
  },
  {
   "cell_type": "code",
   "execution_count": null,
   "id": "q7hPwXQllXkY",
   "metadata": {
    "id": "q7hPwXQllXkY"
   },
   "outputs": [],
   "source": [
    "# Ваш код здесь"
   ]
  },
  {
   "cell_type": "markdown",
   "id": "TLPoUkHBmw__",
   "metadata": {
    "id": "TLPoUkHBmw__"
   },
   "source": [
    "3. Ещё раз посмотрите на долю или количество вхождений каждого значения целевой переменной в выборку и напишите, какое это распределение. Определить, как распределены значения целевой переменной, в данном случае можно и без графика. \n",
    "\n",
    "**Ответ:** _ваш ответ_"
   ]
  },
  {
   "cell_type": "code",
   "execution_count": null,
   "id": "U4macJgemxnw",
   "metadata": {
    "id": "U4macJgemxnw"
   },
   "outputs": [],
   "source": []
  }
 ],
 "metadata": {
  "colab": {
   "collapsed_sections": [],
   "name": "17.8_Практическая работа.ipynb",
   "provenance": []
  },
  "kernelspec": {
   "display_name": "Python 3",
   "language": "python",
   "name": "python3"
  },
  "language_info": {
   "codemirror_mode": {
    "name": "ipython",
    "version": 3
   },
   "file_extension": ".py",
   "mimetype": "text/x-python",
   "name": "python",
   "nbconvert_exporter": "python",
   "pygments_lexer": "ipython3",
   "version": "3.12.0"
  },
  "toc": {
   "base_numbering": 1,
   "nav_menu": {},
   "number_sections": true,
   "sideBar": true,
   "skip_h1_title": false,
   "title_cell": "Table of Contents",
   "title_sidebar": "Contents",
   "toc_cell": false,
   "toc_position": {},
   "toc_section_display": true,
   "toc_window_display": false
  }
 },
 "nbformat": 4,
 "nbformat_minor": 5
}
